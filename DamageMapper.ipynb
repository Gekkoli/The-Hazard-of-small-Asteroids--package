{
 "cells": [
  {
   "cell_type": "markdown",
   "metadata": {},
   "source": [
    "# Supplementary information for damage mapper tool"
   ]
  },
  {
   "cell_type": "markdown",
   "metadata": {},
   "source": [
    "Development of the damage mapper tool can be broken down into three parts:\n",
    "\n",
    "1. A function `damage_zones` to calculate the coordinates of the surface zero location and the airblast damage radii\n",
    "2. A function to plot the blast zones on a map\n",
    "3. Functions to locate the postcodes (or postcode sectors) within the blast zones `get_postcodes_by_radius` and look up the population in these postcodes `get_population_of_postcodes`.\n",
    "\n",
    "For the extension task you will need to develop additional functions."
   ]
  },
  {
   "cell_type": "markdown",
   "metadata": {},
   "source": [
    "## Airblast damage\n",
    "\n",
    "The rapid deposition of energy in the atmosphere is analogous to an explosion and so the environmental consequences of the airburst can be estimated using empirical data from atmospheric explosion experiments [(Glasstone and Dolan, 1977)](https://www.dtra.mil/Portals/61/Documents/NTPR/4-Rad_Exp_Rpts/36_The_Effects_of_Nuclear_Weapons.pdf).\n",
    "\n",
    "The main cause of damage close to the impact site is a strong (pressure) blastwave in the air, known as the **airblast**. Empirical data suggest that the pressure in this wave $p$ (in Pa) (above ambient, also known as overpressure), as a function of explosion energy $E_k$ (in kilotons of TNT equivalent), burst altitude $z_b$ (in m) and horizontal range $r$ (in m), is given by:\n",
    "\n",
    "\\begin{equation*}\n",
    "p(r) = 3.14 \\times 10^{11} \\left(\\frac{r^2 + z_b^2}{E_k^{2/3}}\\right)^{-1.3} + 1.8 \\times 10^{7} \\left(\\frac{r^2 + z_b^2}{E_k^{2/3}}\\right)^{-0.565}\n",
    "\\end{equation*}\n",
    "\n",
    "For airbursts, we will take the total kinetic energy lost by the asteroid at the burst altitude as the burst energy $E_k$. For cratering events, we will define $E_k$ as the **larger** of the total kinetic energy lost by the asteroid at the burst altitude or the residual kinetic energy of the asteroid when it hits the ground.\n",
    "\n",
    "Note that the burst altitude $z_b$ is the vertical distance from the ground to the point of the airburst and the range $r$ is the (great circle) distance along the surface from the \"surface zero point,\" which is the point on the surface that is closest to the point of the airburst (i.e., directly below).\n",
    "\n",
    "The following threshold pressures can then be used to define different degrees of damage.\n",
    "\n",
    "|  Damage Level |  Description    | Pressure (kPa) |\n",
    "|:-------------:|:---------------:|:--------------:|\n",
    "|  1  |  ~10% glass windows shatter    |     1.0      |\n",
    "|  2  | ~90% glass windows shatter     |     3.5      |\n",
    "|  3  | Wood frame buildings collapse  |     27      |\n",
    "|  4  | Multistory brick buildings collapse  |     43      |\n",
    "\n",
    "<p>\n",
    "<div align=\"center\">Table 1: Pressure thresholds (in kPa) for airblast damage</div>\n",
    "\n",
    "According to the equations that we will use in this work, an asteoroid of approximately 7-m radius is required to generate overpressures on the ground exceeding 1 kPa, and an asteoroid of approximately 35-m radius is required to generate overpressures on the ground exceeding 43 kPa."
   ]
  },
  {
   "cell_type": "markdown",
   "metadata": {},
   "source": [
    "## Notes on distance, bearing and position\n",
    "\n",
    "To determine the surface zero location (the point on Earth's surface that is closest to the point of airburst) a useful set of spherical geometric formulae relate the bearing, $\\beta$ (also known as forward azimuth) to take to get from one point to another along a great circle,\n",
    "\n",
    "$$\\tan \\beta = \\frac {\\cos \\varphi_2\\sin (\\lambda_2-\\lambda_1)}{\\cos\\varphi_1\\sin\\varphi_2-\\sin\\varphi_1\\cos\\varphi_2\\cos(\\lambda_2-\\lambda_1)},$$\n",
    "\n",
    "where $\\lambda$ is longitude and $\\varphi$ is latitude, as well as the related problem of the final destination given a surface distance and initial bearing:\n",
    "\n",
    "$$\\sin \\varphi_2 = \\sin \\varphi_1\\cos \\left(\\frac{r}{R_p}\\right) +\\cos \\varphi_1\\sin\\left(\\frac{r}{R_p}\\right)\\cos \\beta,$$\n",
    "\n",
    "$$ \\tan(\\lambda_2-\\lambda_1) = \\frac{\\sin\\beta\\sin\\left(\\frac{r}{R_p}\\right)\\cos\\varphi_1}{\\cos\\left(\\frac{r}{R_p}\\right)-\\sin\\varphi_1\\sin\\varphi_2}.$$\n",
    "\n",
    "These formulae can all be derived from the spherical form of the [sine and cosine laws](https://en.wikipedia.org/wiki/Spherical_trigonometry#Cosine_rules_and_sine_rules) using relevant third points."
   ]
  },
  {
   "cell_type": "markdown",
   "metadata": {},
   "source": [
    "## Postcode locations\n",
    "\n",
    "For those of you unfamiliar with UK postcodes, this [link](https://www.getthedata.com/postcode) might be helpful. Each postcode comprises of two strings of alpha-numeric characters that identify the geographic division of the UK. The first one or two letters of the first part of the postcode (before the number) identify the postcode **area** (e.g., WC); the whole of the first part of the postcode identifies the postcode **district**; the first part of the postcode, plus the first number of the second part of the postcode identifies the postcode **sector**. In this project, we will use the full postcode and the postcode sector.\n",
    "\n",
    "<img src=\"images/postcode_map.png\" width=\"640\">"
   ]
  },
  {
   "cell_type": "markdown",
   "metadata": {},
   "source": [
    "The geographic data supplied by running the `download_data.py` script consists of two files. The larger file is `full_postcodes.csv`, which contains a list of current UK postcodes, along with a government-assigned code designating the local administrative area and information on the average (mean) longitude and latitude of the addresses comprising the unit, using the international WGS 84 geodetic datum as supported by modern GPS."
   ]
  },
  {
   "cell_type": "markdown",
   "metadata": {},
   "source": [
    "The smaller file is `population_by_postcode_sector.csv`, which contains 2011 census data arranged by postcode sector. The important columns for this project are the postcode sector (\"geography\") and the total population (\"All usual residents\"), although you are welcome to use other data in your tool if you wish."
   ]
  },
  {
   "cell_type": "markdown",
   "metadata": {},
   "source": [
    "## Notes on longitude, latitude and distance\n",
    "\n",
    "Given a pair of points by longitude and latitude, converting this into a distance between them can be a surprisingly involved calculation, involving a successively improving model of the shape of the Earth (the geoid). At the lowest reasonable level of approximation, in which the Earth is considered spherical, points at the same longitude satisfy a formula\n",
    "$$|\\varphi_1 -\\varphi_2| = \\frac{r}{R_p}$$\n",
    "where the $\\varphi$s are the latitudes (in radians), $r$ the surface distance between the points and $R_p$ the radius of the earth. As long as $r$ and $R_p$ are in the same units, the choice doesn't matter, but metres are usually to be preferred. For points at the same latitude, a similar formula applies, \n",
    "$$|\\lambda_1 -\\lambda_2| = \\frac{r}{R_p\\cos\\varphi},$$\n",
    "where the $\\lambda$s are the longitudes and the $\\varphi$ is the common latitude. In the general case a number of different formulas exist. [Among the more popular](https://en.wikipedia.org/wiki/Great-circle_distance) are the Haversine formula\n",
    "$$\\frac{r}{R_p} = 2\\arcsin\\sqrt{\\sin^2 \\frac{|\\varphi_1-\\varphi_2|}{2}+\\cos\\varphi_1\\cos\\varphi_2\\sin^2\\frac{|\\lambda_1-\\lambda_2|}{2}},$$\n",
    "the spherical Vincenty formula\n",
    "$$\\frac{r}{R_p}=\\arctan\\frac{\\sqrt{(\\cos\\varphi_2\\sin|\\lambda_1-\\lambda_2|)^2+(\\cos\\varphi_1\\sin\\varphi_2-\\sin\\varphi_1\\cos\\varphi_2\\cos|\\lambda_1-\\lambda_2|)^2}}{\\sin\\varphi_1 \\sin\\varphi_2+\\cos\\varphi_1\\cos\\varphi_2\\cos|\\lambda_1-\\lambda_2|},$$\n",
    "and the law of spherical cosines,\n",
    "$$\\frac{r}{R_p}=\\arccos\\left(\\sin\\varphi_1\\sin\\varphi_2+\\cos\\varphi_1\\cos\\varphi_2\\cos|\\lambda_1-\\lambda_2|\\right).$$\n",
    "At short distances linearizations such as Pythagoras can also be used. \n",
    "\n",
    "Which formulae to choose is a balance between the cost of calculation and the accuracy of the result, which also depends on the specifics of the implementation. For example the two argument (also called `arctan2`) inverse tangent function should be preferred when needed (and available). In general the cheaper formulas have fewer trignometric function evaluations and square root calculations.\n",
    "\n",
    "For this project, you should assume a spherical Earth and use one of the above approximations, but you may be interested to know that at the next level of approximation, the Earth is considered as an oblate spheriod (i.e. flattened sphere) and the full, iterative version of [Vincenty's formulae](https://en.wikipedia.org/wiki/Vincenty%27s_formulae) can be used. Further improvement includes local effects and acknowledges the implications of land elevation, but that sits well outside the scope of this exercise."
   ]
  },
  {
   "cell_type": "markdown",
   "metadata": {},
   "source": [
    "## Extended functionality\n",
    "\n",
    "Additional credit will be given if your damage mapper function demonstrates the following extended capabilities:\n",
    "\n",
    "* The ability to present the software output on a map. The graphics should be designed to be appropriate for use in emergency response and evacuation planning.\n",
    "* The ability to perform a simple uncertainty analysis that takes as input a small uncertainty on each input parameter and calculates a risk for each affected UK postcode (sector)."
   ]
  },
  {
   "cell_type": "markdown",
   "metadata": {},
   "source": [
    "### Plotting on a map\n",
    "\n",
    "As one possible approach, we have provided a function to plot a circle on a map using the `folium` package. You can use `folium` and expand on this function or you may prefer to use a different package. Please check with us that the mapping package you wish to use is permissible before you start."
   ]
  },
  {
   "cell_type": "markdown",
   "metadata": {},
   "source": [
    "### Uncertainty analysis\n",
    "\n",
    "For this second extension exercise, a separate function `impact_risk` should be written that takes an additional set of inputs, describing the standard deviation of each input parameter, as well as the nominal input parameters. The uncertainty in each input parameter can be assumed to follow a gaussian distribution centered on the nominal values. The standard deviations for the parameters can be taken as:\n",
    "\n",
    "* Entry latitude 0.025$^\\circ$\n",
    "* Entry longitude: 0.025$^\\circ$\n",
    "* Entry bearing: 0.5$^\\circ$\n",
    "* Meteoroid radius: 1 m\n",
    "* Meteoroid speed: 1000 m/s\n",
    "* Meteoroid density: 500 kg/m$^3$\n",
    "* Meteoroid strength: 50\\%\n",
    "* Meteoroid trajectory angle: 1$^\\circ$\n",
    "\n",
    "For the second extension task, risk will be defined as the probability that the postcode sector (or postcode) is within a specified damage zone times the affected population. This function should therefore take as an input the overpressure used in the risk calculation and a flag to indicate whether risk should be calculated at the postcode or postcode sector level. For scoring, we will use damage level 3 (wooden buildings collapse) and postcode sectors.\n",
    "\n",
    "Your risk calculator should sample the model parameter space $n$ times, where $n$ is an input parameter, but the sampling method is up to you. The probability that a postcode (or sector) is within a specified damage level is defined as the number of times the postcode (sector) is within the specified damage level divided by $n$. \n",
    "\n",
    "The risk calculator should output a Pandas dataframe with two columns: postcode (unit or sector) and risk."
   ]
  }
 ],
 "metadata": {
  "hide_input": false,
  "kernelspec": {
   "display_name": "Python 3.10.8 ('pallas')",
   "language": "python",
   "name": "python3"
  },
  "language_info": {
   "codemirror_mode": {
    "name": "ipython",
    "version": 3
   },
   "file_extension": ".py",
   "mimetype": "text/x-python",
   "name": "python",
   "nbconvert_exporter": "python",
   "pygments_lexer": "ipython3",
   "version": "3.10.8"
  },
  "toc": {
   "base_numbering": 1,
   "nav_menu": {},
   "number_sections": false,
   "sideBar": true,
   "skip_h1_title": false,
   "title_cell": "Table of Contents",
   "title_sidebar": "Contents",
   "toc_cell": false,
   "toc_position": {},
   "toc_section_display": true,
   "toc_window_display": false
  },
  "vscode": {
   "interpreter": {
    "hash": "ea588204f8912a16e863794a6333ea54e4a3d9844df02c38af08c295899e2212"
   }
  }
 },
 "nbformat": 4,
 "nbformat_minor": 2
}
