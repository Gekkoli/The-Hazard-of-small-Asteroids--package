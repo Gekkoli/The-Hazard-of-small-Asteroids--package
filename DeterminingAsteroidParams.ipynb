{
 "cells": [
  {
   "cell_type": "markdown",
   "metadata": {},
   "source": [
    "# Determination of Asteroid Parameters\n",
    "\n",
    "In **Extension Functionality**, we are asked to show how our solver can determine asteroid parameters that best fit an observed energy deposition curve given a set of incomplete asteroid parameters.\n",
    "\n",
    "As an example, we take the energy deposition curve inferred for the Chelyabinsk event as the observations, where the energy is given in units of [kilotons of TNT](https://en.wikipedia.org/wiki/TNT_equivalent). In addition, we know that the density is 3300 $\\text{kg/m}^3$, entry angle is 18.3 degrees to horizontal, and entry velocity is 19.2 $\\text{km/s}$ ([Popova et al., 2013](http://doi.org/10.1126/science.1242642)).\n",
    "\n",
    "To achieve this, we will use `scipy.optimize` and define a loss function `optimiseFunc` and a parameter optimizer `paramFinder`.\n",
    "\n",
    "The results below proves that our solver is able to successfully determine the asteroid parameters (asteroid radius and altitude) given density, impact angle and entry velocity which best fit observations from Chelyabinsk event.\n"
   ]
  },
  {
   "cell_type": "markdown",
   "metadata": {},
   "source": [
    "## 1. Initialization\n",
    "\n",
    "- import modules, functions and classes\n",
    "- load observations from Chelyabinsk event\n",
    "- initialize an object of the Planet class"
   ]
  },
  {
   "cell_type": "code",
   "execution_count": 1,
   "metadata": {},
   "outputs": [],
   "source": [
    "import pandas as pd\n",
    "import numpy as np\n",
    "import matplotlib.pyplot as plt\n",
    "from scipy.optimize import minimize\n",
    "from scipy.interpolate import interp1d\n",
    "\n",
    "from armageddon import Planet\n",
    "\n",
    "%matplotlib inline"
   ]
  },
  {
   "cell_type": "code",
   "execution_count": 2,
   "metadata": {},
   "outputs": [
    {
     "data": {
      "text/html": [
       "<div>\n",
       "<style scoped>\n",
       "    .dataframe tbody tr th:only-of-type {\n",
       "        vertical-align: middle;\n",
       "    }\n",
       "\n",
       "    .dataframe tbody tr th {\n",
       "        vertical-align: top;\n",
       "    }\n",
       "\n",
       "    .dataframe thead th {\n",
       "        text-align: right;\n",
       "    }\n",
       "</style>\n",
       "<table border=\"1\" class=\"dataframe\">\n",
       "  <thead>\n",
       "    <tr style=\"text-align: right;\">\n",
       "      <th></th>\n",
       "      <th>h</th>\n",
       "      <th>dedz</th>\n",
       "    </tr>\n",
       "  </thead>\n",
       "  <tbody>\n",
       "    <tr>\n",
       "      <th>0</th>\n",
       "      <td>42.1922</td>\n",
       "      <td>1.07070</td>\n",
       "    </tr>\n",
       "    <tr>\n",
       "      <th>1</th>\n",
       "      <td>39.9311</td>\n",
       "      <td>1.09545</td>\n",
       "    </tr>\n",
       "    <tr>\n",
       "      <th>2</th>\n",
       "      <td>39.0415</td>\n",
       "      <td>1.10519</td>\n",
       "    </tr>\n",
       "    <tr>\n",
       "      <th>3</th>\n",
       "      <td>38.4485</td>\n",
       "      <td>1.23483</td>\n",
       "    </tr>\n",
       "    <tr>\n",
       "      <th>4</th>\n",
       "      <td>38.0784</td>\n",
       "      <td>1.85465</td>\n",
       "    </tr>\n",
       "  </tbody>\n",
       "</table>\n",
       "</div>"
      ],
      "text/plain": [
       "         h     dedz\n",
       "0  42.1922  1.07070\n",
       "1  39.9311  1.09545\n",
       "2  39.0415  1.10519\n",
       "3  38.4485  1.23483\n",
       "4  38.0784  1.85465"
      ]
     },
     "execution_count": 2,
     "metadata": {},
     "output_type": "execute_result"
    }
   ],
   "source": [
    "data_filename = 'resources/ChelyabinskEnergyAltitude.csv'\n",
    "\n",
    "data = pd.read_csv(data_filename, header=0, names=[\"h\", \"dedz\"])\n",
    "data.head()"
   ]
  },
  {
   "cell_type": "code",
   "execution_count": 3,
   "metadata": {},
   "outputs": [],
   "source": [
    "# Initialise the Planet class\n",
    "earth = Planet(atmos_func='tabular')"
   ]
  },
  {
   "cell_type": "markdown",
   "metadata": {},
   "source": [
    "## 2. Defining Functions\n",
    "\n",
    "- define a MSE caculator\n",
    "- define a function returns optimal parameters"
   ]
  },
  {
   "cell_type": "code",
   "execution_count": 4,
   "metadata": {},
   "outputs": [],
   "source": [
    "def optimiseFunc(x):\n",
    "    \"\"\"\n",
    "    Calculator of MSE given radius and strength.\n",
    "\n",
    "    Parameters\n",
    "    ----------\n",
    "        x : callable (radius, strength)\n",
    "            Scaled radius and strength. The radius is scaled by 9.0,\n",
    "            while the strength is scaled by 3e6.\n",
    "\n",
    "    Returns\n",
    "    ----------\n",
    "        loss : float\n",
    "            Returns the MSE against exact dedz and altitude, scaled by 1e5\n",
    "    \"\"\"\n",
    "    # Solve the atmospheric entry problem for a given set of inputparameters\n",
    "    result = earth.solve_atmospheric_entry(radius=x[0]*9.0, angle=18.3,\n",
    "                                           strength=x[1]*3e6, density=3300,\n",
    "                                           velocity=19.2e3, dt=0.1,\n",
    "                                           init_altitude=50e3)\n",
    "\n",
    "    # Calculate energy with the result of the atmospheric entry problem\n",
    "    energy = earth.calculate_energy(result)\n",
    "\n",
    "    # Load the evaluations\n",
    "    h = energy.altitude / 1000  # The unit of h is meter then take scaling\n",
    "    e = energy.dedz\n",
    "\n",
    "    # Load the real data\n",
    "    hdata = data.h.values\n",
    "    edata = data.dedz.values\n",
    "\n",
    "    # Get e to have the same timestamps as edata\n",
    "    func = interp1d(h, e, kind='linear')\n",
    "    einterp = func(hdata)\n",
    "    \n",
    "    loss = np.sqrt(np.sum((einterp - edata)**2)) / len(edata)\n",
    "\n",
    "    return loss * 1e5"
   ]
  },
  {
   "cell_type": "code",
   "execution_count": 5,
   "metadata": {},
   "outputs": [],
   "source": [
    "def paramFinder(lossFunc, init_state, bounds, method):\n",
    "    \"\"\"\n",
    "    Calculator of MSE given radius and strength.\n",
    "\n",
    "    Parameters\n",
    "    ----------\n",
    "        lossFunc : callable\n",
    "            The objective function to be optimized\n",
    "        init_state : list\n",
    "            Initial guess\n",
    "        bounds : sequence\n",
    "            Bounds on variables\n",
    "        method : str\n",
    "            Solver type for optimization\n",
    "\n",
    "\n",
    "    Returns\n",
    "    ----------\n",
    "        best_params : tuple\n",
    "            Returns the optimzed radius and strength\n",
    "    \"\"\"\n",
    "\n",
    "    sol = minimize(lossFunc, init_state, bounds=bounds,\n",
    "                   method=method)\n",
    "\n",
    "    # Scaling\n",
    "    radius = sol.x[0] * 9\n",
    "    strength = sol.x[1] * 3e6\n",
    "\n",
    "    best_params = (radius, strength)\n",
    "\n",
    "    return best_params"
   ]
  },
  {
   "cell_type": "markdown",
   "metadata": {},
   "source": [
    "## 3. Optimization Test\n",
    "\n",
    "- call `paramFinder` to solve the optimization problem\n",
    "- unpack and present solutions\n",
    "- run the solver again with the optimzed parameters\n",
    "- plot actual dedz to altitude and the evaluations\n",
    "- calculate the MSE of the optimzed parameters"
   ]
  },
  {
   "cell_type": "code",
   "execution_count": 6,
   "metadata": {},
   "outputs": [],
   "source": [
    "sol = paramFinder(optimiseFunc, [0.1, 0.1], bounds=[(0, 3), (0, 1)],\n",
    "               method='Nelder-Mead')"
   ]
  },
  {
   "cell_type": "code",
   "execution_count": 7,
   "metadata": {},
   "outputs": [
    {
     "name": "stdout",
     "output_type": "stream",
     "text": [
      "Radius: 9.175061817842206 \n",
      "Strength: 838286.0476887351\n"
     ]
    }
   ],
   "source": [
    "radius = sol[0]\n",
    "strength = sol[1]\n",
    "\n",
    "print(f'Radius: {radius} \\nStrength: {strength}')"
   ]
  },
  {
   "cell_type": "code",
   "execution_count": 8,
   "metadata": {},
   "outputs": [],
   "source": [
    "result = earth.solve_atmospheric_entry(radius=radius, angle=18.3,\n",
    "                                       strength=strength, density=3300,\n",
    "                                       velocity=19.2e3, dt=0.05,\n",
    "                                       init_altitude=50e3)\n",
    "\n",
    "energy = earth.calculate_energy(result)"
   ]
  },
  {
   "cell_type": "code",
   "execution_count": 9,
   "metadata": {},
   "outputs": [
    {
     "data": {
      "text/plain": [
       "Text(0.5, 0, 'dedz ($Kt . km^{-1}$)')"
      ]
     },
     "execution_count": 9,
     "metadata": {},
     "output_type": "execute_result"
    },
    {
     "data": {
      "image/png": "[encoded data removed]",
      "text/plain": [
       "<Figure size 640x480 with 1 Axes>"
      ]
     },
     "metadata": {},
     "output_type": "display_data"
    }
   ],
   "source": [
    "fig = plt.figure()\n",
    "ax = fig.add_subplot(111)\n",
    "ax.plot(energy.dedz, energy.altitude*1e-3, label='Eval')\n",
    "ax.plot(data.dedz, data.h, label='Truth')\n",
    "plt.legend()\n",
    "plt.title('Exact Data versus Evaluations')\n",
    "plt.ylabel(r'altitude ($km$)')\n",
    "plt.xlabel(r'dedz ($Kt . km^{-1}$)')"
   ]
  },
  {
   "cell_type": "code",
   "execution_count": 10,
   "metadata": {},
   "outputs": [
    {
     "name": "stdout",
     "output_type": "stream",
     "text": [
      "MSE:  33412.20025787228\n"
     ]
    }
   ],
   "source": [
    "print(f'MSE: ', optimiseFunc([radius/9.0, strength/3e6]))"
   ]
  },
  {
   "cell_type": "markdown",
   "metadata": {},
   "source": [
    "Indicated by the graph above, the evaluations produced from the solver with optimal radius and strength fit the energy deposition curve inferred for the Chelyabinsk event visually well. Numerically, the MSE of the radius and strength is around 39423.67.\n",
    "\n",
    "More tests with varying initial guesses are shown below."
   ]
  },
  {
   "cell_type": "markdown",
   "metadata": {},
   "source": [
    "## 4. Additional Optimization Tests\n",
    "\n",
    "- set initial guess to [0.3, 0.3] and test\n",
    "- set initial guess to [0.5, 0.5] and test\n",
    "- set initial guess to [0.7, 0.7] and test\n",
    "- show results of our approximated"
   ]
  },
  {
   "cell_type": "code",
   "execution_count": 11,
   "metadata": {},
   "outputs": [
    {
     "name": "stdout",
     "output_type": "stream",
     "text": [
      "Radius: 9.175087130914072 \n",
      "Strength: 849663.9501785224\n",
      "MSE:  33418.999637933965\n"
     ]
    }
   ],
   "source": [
    "# initial guess set to [0.3, 0.3]\n",
    "sol = paramFinder(optimiseFunc, [0.3, 0.3], bounds=[(0, 3), (0, 1)],\n",
    "               method='Nelder-Mead')\n",
    "\n",
    "radius = sol[0]\n",
    "strength = sol[1]\n",
    "\n",
    "print(f'Radius: {radius} \\nStrength: {strength}')\n",
    "print(f'MSE: ', optimiseFunc([radius/9.0, strength/3e6]))"
   ]
  },
  {
   "cell_type": "code",
   "execution_count": 12,
   "metadata": {},
   "outputs": [
    {
     "name": "stdout",
     "output_type": "stream",
     "text": [
      "Radius: 9.175062318167065 \n",
      "Strength: 838199.6462385793\n",
      "MSE:  33412.20020832377\n"
     ]
    }
   ],
   "source": [
    "# initial guess set to [0.5, 0.5]\n",
    "sol = paramFinder(optimiseFunc, [0.5, 0.5], bounds=[(0, 3), (0, 1)],\n",
    "               method='Nelder-Mead')\n",
    "\n",
    "radius = sol[0]\n",
    "strength = sol[1]\n",
    "\n",
    "print(f'Radius: {radius} \\nStrength: {strength}')\n",
    "print(f'MSE: ', optimiseFunc([radius/9.0, strength/3e6]))"
   ]
  },
  {
   "cell_type": "code",
   "execution_count": 13,
   "metadata": {},
   "outputs": [
    {
     "name": "stdout",
     "output_type": "stream",
     "text": [
      "Radius: 9.123032892064934 \n",
      "Strength: 867669.9194537471\n",
      "MSE:  33868.03983479483\n"
     ]
    }
   ],
   "source": [
    "# initial guess set to [0.7, 0.7]\n",
    "sol = paramFinder(optimiseFunc, [0.7, 0.7], bounds=[(0, 3), (0, 1)],\n",
    "               method='Nelder-Mead')\n",
    "\n",
    "radius = sol[0]\n",
    "strength = sol[1]\n",
    "\n",
    "print(f'Radius: {radius} \\nStrength: {strength}')\n",
    "print(f'MSE: ', optimiseFunc([radius/9.0, strength/3e6]))"
   ]
  },
  {
   "cell_type": "markdown",
   "metadata": {},
   "source": [
    "Firstly, even if we change the inital guesses, these results are almost identical. Therefore, we can conclude that our method to determine asteroid parameters is stable and valid. \n",
    "\n",
    "Secondly, according to these tests, given that the density is 3300 $\\text{kg/m}^3$, impact angle is 18.3 degrees to horizontal, and entry velocity is 19.2 $\\text{km/s}$, the missing parameters which best fit the Chelyabinsk oberservations are approximately:\n",
    "\n",
    "$$\n",
    "Radius: 9.123 m\\\\\n",
    "Strength: 867669.919 Pa,\n",
    "$$\n",
    "\n",
    "And the results will be the following."
   ]
  },
  {
   "cell_type": "code",
   "execution_count": 14,
   "metadata": {},
   "outputs": [
    {
     "name": "stdout",
     "output_type": "stream",
     "text": [
      "MSE:  33868.03983479483\n"
     ]
    },
    {
     "data": {
      "image/png": "[encoded data removed]",
      "text/plain": [
       "<Figure size 640x480 with 1 Axes>"
      ]
     },
     "metadata": {},
     "output_type": "display_data"
    }
   ],
   "source": [
    "# radius = 9.2468\n",
    "# strength = 743190.43\n",
    "# radius = 9.1230\n",
    "# strength = 867669.919\n",
    "\n",
    "result = earth.solve_atmospheric_entry(radius=radius, angle=18.3,\n",
    "                                       strength=strength, density=3300,\n",
    "                                       velocity=19.2e3, dt=0.05,\n",
    "                                       init_altitude=50e3)\n",
    "\n",
    "energy = earth.calculate_energy(result)\n",
    "\n",
    "fig = plt.figure()\n",
    "ax = fig.add_subplot(111)\n",
    "ax.plot(energy.dedz, energy.altitude*1e-3, label='Eval')\n",
    "ax.plot(data.dedz, data.h, label='Truth')\n",
    "plt.legend()\n",
    "plt.title('Exact Data versus Evaluations')\n",
    "plt.ylabel(r'altitude ($km$)')\n",
    "plt.xlabel(r'dedz ($Kt . km^{-1}$)')\n",
    "\n",
    "print(f'MSE: ', optimiseFunc([radius/9.0, strength/3e6]))"
   ]
  },
  {
   "cell_type": "markdown",
   "metadata": {},
   "source": [
    "And the outcomes show a great fit both visually and numerically."
   ]
  },
  {
   "cell_type": "markdown",
   "metadata": {},
   "source": []
  }
 ],
 "metadata": {
  "kernelspec": {
   "display_name": "Python 3.10.8 ('pallas')",
   "language": "python",
   "name": "python3"
  },
  "language_info": {
   "codemirror_mode": {
    "name": "ipython",
    "version": 3
   },
   "file_extension": ".py",
   "mimetype": "text/x-python",
   "name": "python",
   "nbconvert_exporter": "python",
   "pygments_lexer": "ipython3",
   "version": "3.10.8"
  },
  "orig_nbformat": 4,
  "vscode": {
   "interpreter": {
    "hash": "3932e21bf091249d4b09e4b6c764c737ee502bda706c7687dd430981727cc573"
   }
  }
 },
 "nbformat": 4,
 "nbformat_minor": 2
}
