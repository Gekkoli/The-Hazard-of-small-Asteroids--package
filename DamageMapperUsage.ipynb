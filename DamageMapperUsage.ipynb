{
 "cells": [
  {
   "cell_type": "markdown",
   "id": "3c051631",
   "metadata": {},
   "source": [
    "# Airblast Mapper"
   ]
  },
  {
   "cell_type": "code",
   "execution_count": 1,
   "id": "c8e7ea0e",
   "metadata": {},
   "outputs": [],
   "source": [
    "import numpy as np\n",
    "import pandas as pd\n",
    "import armageddon"
   ]
  },
  {
   "cell_type": "markdown",
   "id": "f7433e7f",
   "metadata": {},
   "source": [
    "The Airblast Mapper Documentation can be divided into 3 sections:\n",
    "- Damage Calculator\n",
    "\n",
    "\n",
    "- Location / Postcode Finder\n",
    "\n",
    "\n",
    "- Damage Mapper"
   ]
  },
  {
   "cell_type": "markdown",
   "id": "a8908f61",
   "metadata": {},
   "source": [
    "# Damage Mapper Documentation"
   ]
  },
  {
   "cell_type": "markdown",
   "id": "69dfa151",
   "metadata": {},
   "source": [
    "The Damage Mapper Functionality of the module was broken down into 3 python files. A damage solver file, a locator file and a mapper file."
   ]
  },
  {
   "cell_type": "markdown",
   "id": "a81db87a",
   "metadata": {},
   "source": [
    "## Damage Solver:"
   ]
  },
  {
   "cell_type": "markdown",
   "id": "e69afd7d",
   "metadata": {},
   "source": [
    "The initial damage solver file includes 2 main functions: \n",
    "- <u> Damage Zones</u> : which calculates the Latitude and Longitude of the zero point of the blast, as well as the blast radii depending on the total kinetic energy of the asteroid at the burst point and the pressures of the blast wave.\n",
    "\n",
    "\n",
    "- <u> Impact Risk </u>:  which calculates the risk of each postcode/sector in the blast radii - with the uncertainty of the initial parameters of the asteroid."
   ]
  },
  {
   "cell_type": "markdown",
   "id": "947a2bcc",
   "metadata": {},
   "source": [
    "## Damage Zones:\n",
    "\n",
    "This function takes as parameters:\n",
    "- Outcome: Is a Dictionary with the outcomes from an impact scenrario calculated from Airblast Solver.\n",
    "\n",
    "\n",
    "- Latitude (lat): Is a float corresponding to the entry latitude of the asteroid. The unit of this parameter is degrees.\n",
    "\n",
    "\n",
    "- Longitude (lon): Is a float corresponding to the entry longitude of the asteroid. The unit of this parameter is degrees.\n",
    "\n",
    "\n",
    "- Bearing: Is a float corresponding to the Azimuth relativ to the north of the asteroid trajectory. The unit of this parameter is degrees.\n",
    "\n",
    "\n",
    "- Pressures: Is as an (array - list) which includes all the thresholds deifning the airblast damage levels in Pa.\n",
    "\n",
    "The Pressures used in our function were the following: \n",
    "\n",
    "|  Damage Level |  Description    | Pressure (kPa) |\n",
    "|:-------------:|:---------------:|:--------------:|\n",
    "|  1  |  ~10% glass windows shatter    |     1.0      |\n",
    "|  2  | ~90% glass windows shatter     |     3.5      |\n",
    "|  3  | Wood frame buildings collapse  |     27      |\n",
    "|  4  | Multistory brick buildings collapse  |     43      |\n",
    "\n"
   ]
  },
  {
   "cell_type": "markdown",
   "id": "5c1277fd",
   "metadata": {},
   "source": [
    "The function ouputs:\n",
    "- Blast Latitude (blat) as a float: The latitude of the surface zero point in degrees\n",
    "\n",
    "\n",
    "- Blast Longitude (blon) as a float: The longitude of the surface zero point in degrees\n",
    "\n",
    "\n",
    "- Damage radius (damrad) as an array of floats: The blast radii for the 4 input damage levels, in metres."
   ]
  },
  {
   "cell_type": "markdown",
   "id": "ae328f29",
   "metadata": {},
   "source": [
    "#### Example:\n",
    "\n",
    "Using the following input Parameters:\n",
    "\n",
    "- Outcome:\n",
    "    - burst altitude: 8e3 metres\n",
    "    - burst energy: 7e3 Kt-tnt\n",
    "    - burst distance: 90e3 metres\n",
    "    - burst peak dedz: 1e3\n",
    "    - outcome: Airburst\n",
    "\n",
    "\n",
    "- Entry Latitude: 52.79 degrees\n",
    "- Entry Longitude: -2.95 degrees\n",
    "- Bearing: 135 degrees\n",
    "- Pressues: 1e3, 3.5e3, 27e3, 43e3\n"
   ]
  },
  {
   "cell_type": "code",
   "execution_count": 2,
   "id": "47a8e6c2",
   "metadata": {},
   "outputs": [
    {
     "name": "stdout",
     "output_type": "stream",
     "text": [
      "Blast latitude was calculated to be at:  52.21396905216969  degrees.\n",
      "\n",
      "Blast longitude was calculated to be at:  -2.0159088616770733  degrees.\n",
      "\n",
      "   Pressures  Blast Radii (Metres)\n",
      "0     1000.0         115971.316730\n",
      "1     3500.0          42628.366515\n",
      "2    27000.0           9575.214234\n",
      "3    43000.0           5835.983452\n"
     ]
    }
   ],
   "source": [
    "outcome = {'burst_altitude': 8e3, 'burst_energy': 7e3,\n",
    "                   'burst_distance': 90e3, 'burst_peak_dedz': 1e3,\n",
    "                   'outcome': 'Airburst'}\n",
    "pressures=[1e3, 3.5e3, 27e3, 43e3]\n",
    "\n",
    "blat, blon, damrad = armageddon.damage_zones(outcome, 52.79, -2.95, 135,\n",
    "                     pressures)\n",
    "\n",
    "print('Blast latitude was calculated to be at: ', blat, ' degrees.')\n",
    "print()\n",
    "print('Blast longitude was calculated to be at: ', blon, ' degrees.')\n",
    "df = pd.DataFrame(data = (pressures, damrad), index=None).T\n",
    "df.columns =  ['Pressures', 'Blast Radii (Metres)']\n",
    "print()\n",
    "print(df)"
   ]
  },
  {
   "cell_type": "markdown",
   "id": "1daa67e9",
   "metadata": {},
   "source": [
    "## Impact Risk"
   ]
  },
  {
   "cell_type": "markdown",
   "id": "be2d49f7",
   "metadata": {},
   "source": [
    "This function takes as inputs: \n",
    "\n",
    "- Planet Instance:  From the Solver Class\n",
    "\n",
    "\n",
    "- The Fiducial means of the initial parameters of the asteroid fall as a <u>dictionary</u>:\n",
    "\n",
    "    - Entry latitude 53.0$^\\circ$\n",
    "    - Entry longitude: -2.5$^\\circ$\n",
    "    - Entry bearing: 115.0$^\\circ$\n",
    "    - Meteoroid radius: 35 m\n",
    "    - Meteoroid speed: 19 000 m/s\n",
    "    - Meteoroid density: 3 000 kg/m$^3$\n",
    "    - Meteoroid strength: 10 000 000 Pa\\%\n",
    "    - Meteoroid trajectory angle: 45$^\\circ$\n",
    "   \n",
    "\n",
    "- The Fiducial standard deviations of the above parameters as a <u>dictionary</u>:  \n",
    "\n",
    "    * Entry latitude 0.025$^\\circ$\n",
    "    * Entry longitude: 0.025$^\\circ$\n",
    "    * Entry bearing: 0.5$^\\circ$\n",
    "    * Meteoroid radius: 1 m\n",
    "    * Meteoroid speed: 1000 m/s\n",
    "    * Meteoroid density: 500 kg/m$^3$\n",
    "    * Meteoroid strength: 50\\%\n",
    "    * Meteoroid trajectory angle: 1$^\\circ$\n",
    "\n",
    "\n",
    " - A single pressure to calculate the impact zone as a float: 27 000 Pa\n",
    "\n",
    "\n",
    " - Number of Samples to take from the Gaussian Distributions\n",
    "\n",
    "\n",
    " - Sector: Boolean Input: \n",
    "     - True: Calculate the risk for postcode sectors\n",
    "     - False: Calculate the risk for postcode units"
   ]
  },
  {
   "cell_type": "markdown",
   "id": "46eceabe",
   "metadata": {},
   "source": [
    "The function outputs:\n",
    "\n",
    "   - A pandas Dataframe containing the risk of the postcodes being affected by each of the sampled asteroid fallings.\n",
    "   - The function should also save an HTML file where the map is plotted and can be used for emergency and evacuation situations."
   ]
  },
  {
   "cell_type": "markdown",
   "id": "18187cfd",
   "metadata": {},
   "source": [
    "### Example:"
   ]
  },
  {
   "cell_type": "code",
   "execution_count": null,
   "id": "23134c6d",
   "metadata": {},
   "outputs": [],
   "source": [
    "planet = armageddon.Planet()\n",
    "armageddon.impact_risk(planet)"
   ]
  },
  {
   "cell_type": "markdown",
   "id": "44f3da1d",
   "metadata": {},
   "source": [
    "# Location Documentation"
   ]
  },
  {
   "cell_type": "markdown",
   "id": "a3c294ec",
   "metadata": {},
   "source": [
    "The Location python file includes the great circle distance function and a get population class."
   ]
  },
  {
   "cell_type": "markdown",
   "id": "fb47fce7",
   "metadata": {},
   "source": [
    "### Great Circle Distance Function:"
   ]
  },
  {
   "cell_type": "markdown",
   "id": "583eabae",
   "metadata": {},
   "source": [
    "This function calculates the distance between pairs of points (circle distance - as assumption that earth is speherical)."
   ]
  },
  {
   "cell_type": "markdown",
   "id": "40e35528",
   "metadata": {},
   "source": [
    "The function takes as inputs:\n",
    "   \n",
    "   - An array of size n x 2, with n pairs of latitudes and longitudes.\n",
    "   - A second array of size m x 2 with m pairs of latitudes and longitudes.\n",
    "\n",
    "\n",
    "The function ouputs:\n",
    "\n",
    "- A n x m array containing the distances in metres between each pair of points."
   ]
  },
  {
   "cell_type": "markdown",
   "id": "dfa92dd9",
   "metadata": {},
   "source": [
    "### Example:\n",
    "\n",
    "- Configure 2 lists of lists - as np-array size n x 2 and another of size m x 2.\n",
    "\n",
    "\n",
    "- Apply the armageddon.great_circle_distance Function on those 2 arrays."
   ]
  },
  {
   "cell_type": "code",
   "execution_count": null,
   "id": "01b5d980",
   "metadata": {},
   "outputs": [],
   "source": [
    "pnts1 = np.array([[54.0, 0.0], [55.0, 1.0], [54.2, -3.0]])\n",
    "pnts2 = np.array([[55.0, 1.0], [56.0, -2.1], [54.001, -0.003]])\n",
    "\n",
    "data_ = armageddon.great_circle_distance(pnts1, pnts2)\n",
    "\n",
    "df = pd.DataFrame(data = data_, columns=[str(pnts2[0]),\n",
    "                                         str(pnts2[1]),\n",
    "                                         str(pnts2[2])], \n",
    "                                  index=[str(pnts1[0]),\n",
    "                                         str(pnts1[1]),\n",
    "                                         str(pnts1[2])])\n",
    "df"
   ]
  },
  {
   "cell_type": "markdown",
   "id": "8e326a81",
   "metadata": {},
   "source": [
    "## Get Population Class: "
   ]
  },
  {
   "cell_type": "markdown",
   "id": "d5bfbfdc",
   "metadata": {},
   "source": [
    "- Get Postcodes by radius Function: Function to find postcode sectors/units within a circle of radius radii and central location X.\n",
    "\n",
    "\n",
    "- Get Population of postcodes Function:  Function that returns the population within a list of postcode sectors/units.\n",
    "\n",
    "\n",
    "#### Assumptions: \n",
    "\n",
    "##### Missing Data:\n",
    "\n",
    "   - It was noticed in our population by postcode sector dataset, that certain postcode sectors are not available.\n",
    "\n",
    "\n",
    "   - As a way around printing an error, we have assumed that these areas have a population of 0, and are places such as industrial zones, large natural natural parks ect.. - This was implemented in the _add_0populations_postcode function.\n",
    "\n",
    "\n",
    "   - We know this is not the most optimal solution, as some of these areas appear in Scotland and Ireland, but we have decided to continue with this.\n"
   ]
  },
  {
   "cell_type": "markdown",
   "id": "5eff949d",
   "metadata": {},
   "source": [
    "### Get Postcodes by radius:"
   ]
  },
  {
   "cell_type": "markdown",
   "id": "9d394175",
   "metadata": {},
   "source": [
    "This function allows either all postcode sectors / units in a certain regions to be found."
   ]
  },
  {
   "cell_type": "markdown",
   "id": "b742a873",
   "metadata": {},
   "source": [
    "This function takes as inputs:\n",
    "\n",
    "- A pair of latitude-longitude (X): The central point of the blast as an array.\n",
    "\n",
    "- Radii: The radial distances of X as an array in metres.\n",
    "\n",
    "\n",
    "- Sector: A boolean parameter: When set to True, the function returns the postcode sectors found in the blast circle. When False returns the postcode units found in the blast circle.\n",
    "\n",
    "\n",
    "The function then outputs:\n",
    "\n",
    "- A list of lists containing the postcode sectors / units within the blast wave from the X location."
   ]
  },
  {
   "cell_type": "markdown",
   "id": "760d263e",
   "metadata": {},
   "source": [
    "### Example:\n",
    "\n",
    "\n",
    "- Create an instance of the class.\n",
    "\n",
    "\n",
    "- Input the X, the central point of the blast as an array.\n",
    "\n",
    "\n",
    "- Input the radii in metres."
   ]
  },
  {
   "cell_type": "code",
   "execution_count": null,
   "id": "e3de47f7",
   "metadata": {},
   "outputs": [],
   "source": [
    "population_class = armageddon.PostcodeLocator()\n",
    "\n",
    "Latitude_Longitude_pair = (51.4981, -0.1773)\n",
    "Blast_radii = [0.13e3]\n",
    "\n",
    "# Example which outputs the Postcode Units:\n",
    "Postcode_unists = population_class.get_postcodes_by_radius(Latitude_Longitude_pair, \n",
    "                                         Blast_radii)\n",
    "print('The postcode units located in the blast wave are the following: ', Postcode_unists)\n",
    "\n",
    "\n",
    "\n",
    "# Example which outputs the Postcode Sectors:\n",
    "Postcode_sectors = population_class.get_postcodes_by_radius(Latitude_Longitude_pair, \n",
    "                                         Blast_radii, True)\n",
    "print('The postcode sectors located in the blast wave are the following: ', Postcode_sectors)"
   ]
  },
  {
   "cell_type": "markdown",
   "id": "08c0c25b",
   "metadata": {},
   "source": [
    "### Get Population of Postcodes:"
   ]
  },
  {
   "cell_type": "markdown",
   "id": "7c0f195f",
   "metadata": {},
   "source": [
    "This function allows the population of postcode sectors to be identified.\n",
    "\n",
    "\n",
    "The function takes as input:\n",
    "\n",
    "\n",
    "- Postcodes: as a list of lists of strings.\n",
    "\n",
    "\n",
    "- Sector: A boolean parameter, when True returns the populations from a list of lists of postcode sectors. When False returns the populations from a list of lists of postcode units.\n",
    "\n",
    "\n",
    "The function outputs: \n",
    "\n",
    "- A list of lists containing the population of input postcodes - rounded to the nearest full float number."
   ]
  },
  {
   "cell_type": "markdown",
   "id": "b2f7284d",
   "metadata": {},
   "source": [
    "### Example: "
   ]
  },
  {
   "cell_type": "code",
   "execution_count": null,
   "id": "dbb0eca8",
   "metadata": {},
   "outputs": [],
   "source": [
    "# Example with list of lists of postcode units:\n",
    "\n",
    "list_of_postcode_units = [['SW7 2AZ', 'SW7 2BT', 'SW7 2BU', 'SW7 2DD']]\n",
    "print('The populations in the list of postcode units are: ', population_class.get_population_of_postcode(list_of_postcode_units))\n",
    "\n",
    "\n",
    "# Example with list of lists of postcode sectors:\n",
    "\n",
    "list_of_postcode_sectors = [['SW7 2', 'SW7 2']]\n",
    "population_class.get_population_of_postcode(list_of_postcode_sectors, True)\n",
    "print('The populations in the list of postcode sectors are: ', population_class.get_population_of_postcode(list_of_postcode_sectors, True))\n"
   ]
  },
  {
   "cell_type": "markdown",
   "id": "64f99eb8",
   "metadata": {},
   "source": [
    "# Mapper Documentation\n",
    "\n",
    "The mapper python file allows the blast waves and population densities to be plotted on a map for easy usage in emergency response and evacuation planning. \n",
    "\n",
    "Large cities can be located close to the damage zones for smooth evacuation.\n",
    "\n",
    "\n",
    "The file contains two functions : \n",
    "\n",
    "- Plot Circle\n",
    "- Plot Impact Risk Circles\n",
    "\n",
    "\n",
    "### Plot Circle:\n",
    "Which takes as input the latitude and longitude of the blast centre, as well as the radius of the blast: \n",
    "\n",
    "- The latitude and longitude should be inputed as floats in degrees.\n",
    "- The radius in metres as a list containing floats.\n",
    "- The function also takes a map input which indicates if the function should take any existing map objects.\n",
    "\n",
    "\n",
    "The function returns a Folium map, which can be printed or turned into a HTML file."
   ]
  },
  {
   "cell_type": "markdown",
   "id": "aadd9e87",
   "metadata": {},
   "source": [
    "## Example"
   ]
  },
  {
   "cell_type": "code",
   "execution_count": null,
   "id": "a56e682a",
   "metadata": {
    "scrolled": true
   },
   "outputs": [],
   "source": [
    "# outcome = {'burst_altitude': 8e3, 'burst_energy': 7e3,\n",
    "#            'burst_distance': 90e3, 'burst_peak_dedz': 1e3,\n",
    "#            'outcome': 'Airburst'}\n",
    "# blat, blon, damrad = armageddon.damage_zones(outcome, 52.79, -2.95, 135,\n",
    "#                                   pressures=[1e3, 3.5e3, 27e3, 43e3])\n",
    "\n",
    "# armageddon.plot_circle(blat, blon, damrad)"
   ]
  },
  {
   "cell_type": "markdown",
   "id": "0937e25d",
   "metadata": {},
   "source": [
    "## Usage:\n",
    "\n",
    "The plot_cirlce functions returns a map which is substantially zoomed out. For acurate representation of population density, you may be required to manually zoom onto a desired location."
   ]
  },
  {
   "cell_type": "code",
   "execution_count": null,
   "id": "af83f4a5",
   "metadata": {},
   "outputs": [],
   "source": [
    "# import folium\n",
    "# import armageddon\n",
    "# armageddon.plot_circle(52.1951, -0.1313, [1e3, 3.5e3, 27e3, 43e3])"
   ]
  }
 ],
 "metadata": {
  "kernelspec": {
   "display_name": "Python 3 (ipykernel)",
   "language": "python",
   "name": "python3"
  },
  "language_info": {
   "codemirror_mode": {
    "name": "ipython",
    "version": 3
   },
   "file_extension": ".py",
   "mimetype": "text/x-python",
   "name": "python",
   "nbconvert_exporter": "python",
   "pygments_lexer": "ipython3",
   "version": "3.10.4"
  }
 },
 "nbformat": 4,
 "nbformat_minor": 5
}
